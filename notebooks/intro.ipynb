{
 "cells": [
  {
   "cell_type": "code",
   "execution_count": null,
   "metadata": {},
   "outputs": [],
   "source": [
    "'''\n",
    "This first cell pulls the project-specific secrets from the secure vault (AWS Secrets Manager) \n",
    "and sets them as environment variables.\n",
    "\n",
    "This includes setting the Cornell AI API Gateway key and Base URL \n",
    "to OPENAI_API_KEY and OPENAI_BASE_URL respectively.\n",
    "\n",
    "The Cornell AI API Gateway is OpenAI SDK Compatible, \n",
    "this allows us to use familiar tools to access many models like \n",
    "OpenAI GPT, Anthropic Claude, Meta Llama, and more.\n",
    "'''\n",
    "\n",
    "from thisapp.secrets import Secrets\n",
    "Secrets.apply_environment_secrets()\n",
    "\n",
    "from openai import OpenAI\n",
    "\n",
    "openai = OpenAI()\n",
    "\n",
    "claude_response = openai.chat.completions.create(\n",
    "    model='anthropic.claude-3.5-sonnet.v2',\n",
    "    messages=[\n",
    "        {'role': 'system', 'content': 'You are a helpful assistant.'},\n",
    "        {'role': 'user', 'content': 'What is the purpose of life?'},\n",
    "    ],\n",
    ").choices[0].message.content\n",
    "\n",
    "gpt4o_response = openai.chat.completions.create(\n",
    "    model='openai.gpt-4o',\n",
    "    messages=[\n",
    "        {'role': 'system', 'content': 'You are a helpful assistant.'},\n",
    "        {'role': 'user', 'content': 'What is the purpose of life?'},\n",
    "    ],\n",
    ").choices[0].message.content\n",
    "\n",
    "print(f'Claude:\\n\\n{claude_response}\\n\\n')\n",
    "print(f'GPT4o:\\n\\n{gpt4o_response}\\n\\n')"
   ]
  }
 ],
 "metadata": {
  "kernelspec": {
   "display_name": "Python 3",
   "language": "python",
   "name": "python3"
  },
  "language_info": {
   "name": "python",
   "version": "3.9.6"
  }
 },
 "nbformat": 4,
 "nbformat_minor": 2
}
